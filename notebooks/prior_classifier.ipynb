{
 "cells": [
  {
   "cell_type": "code",
   "execution_count": 1,
   "metadata": {},
   "outputs": [],
   "source": [
    "from pathlib import Path\n",
    "\n",
    "import ase\n",
    "import numpy as np\n",
    "import pandas as pd\n",
    "import seaborn as sns\n",
    "from mace.calculators import mace_mp\n",
    "from sklearn.neural_network import MLPClassifier"
   ]
  },
  {
   "cell_type": "markdown",
   "metadata": {},
   "source": [
    "### Settings and loading data"
   ]
  },
  {
   "cell_type": "code",
   "execution_count": null,
   "metadata": {},
   "outputs": [],
   "source": [
    "# Settings\n",
    "device = \"cuda:0\"  # or \"cpu\"\n",
    "data_path = Path(\"../data/universal\")\n",
    "\n",
    "# Load data\n",
    "lattice_data = np.load(data_path / \"lattice.npy\", allow_pickle=True).item()\n",
    "atomic_numbers_data = np.load(\n",
    "    data_path / \"atomic_numbers.npy\", allow_pickle=True\n",
    ").item()\n",
    "positions_data = np.load(data_path / \"positions_800K.npz\")\n",
    "model = mace_mp(model=\"small\", device=device, default_dtype=\"float32\")"
   ]
  },
  {
   "cell_type": "markdown",
   "metadata": {},
   "source": [
    "### Get MACE invariant features"
   ]
  },
  {
   "cell_type": "code",
   "execution_count": null,
   "metadata": {},
   "outputs": [],
   "source": [
    "def get_descriptor(mpid):\n",
    "    lattice = lattice_data[mpid]\n",
    "    atomic_numbers = atomic_numbers_data[mpid]\n",
    "    positions = positions_data[mpid][0]\n",
    "    atoms = ase.Atoms(\n",
    "        numbers=atomic_numbers, positions=positions, cell=lattice, pbc=True\n",
    "    )\n",
    "    desc = model.get_descriptors(atoms)\n",
    "    desc_Li = np.mean(desc[atomic_numbers == 3], axis=0)\n",
    "    desc_frame = np.mean(desc[atomic_numbers != 3], axis=0)\n",
    "    return {\"Li\": desc_Li, \"frame\": desc_frame}\n",
    "\n",
    "\n",
    "descriptor_data = {mpid: get_descriptor(mpid) for mpid in list(lattice_data.keys())}"
   ]
  },
  {
   "cell_type": "markdown",
   "metadata": {},
   "source": [
    "### Create labels for the prior classifier"
   ]
  },
  {
   "cell_type": "code",
   "execution_count": null,
   "metadata": {},
   "outputs": [],
   "source": [
    "# Load training data\n",
    "df = pd.concat(\n",
    "    [pd.read_csv(data_path / f\"train_{temp}K.csv\") for temp in [600, 800, 1000, 1200]]\n",
    ")\n",
    "\n",
    "# Compute log10 MSD/t and binarize\n",
    "df[\"log_msd_t_Li\"] = np.log10(df[\"msd_t_Li\"])\n",
    "df[\"log_msd_t_frame\"] = np.log10(df[\"msd_t_frame\"])\n",
    "df[\"log_msd_t_Li_label\"] = pd.cut(\n",
    "    df[\"log_msd_t_Li\"], bins=[-np.inf, -1.0, np.inf], labels=[0, 1]\n",
    ")\n",
    "df[\"log_msd_t_frame_label\"] = pd.cut(\n",
    "    df[\"log_msd_t_frame\"], bins=[-np.inf, -1.0, np.inf], labels=[0, 1]\n",
    ")"
   ]
  },
  {
   "cell_type": "markdown",
   "metadata": {},
   "source": [
    "### Train the prior classifier"
   ]
  },
  {
   "cell_type": "code",
   "execution_count": null,
   "metadata": {},
   "outputs": [],
   "source": [
    "# Descriptors for Li\n",
    "X_train_Li = np.array([descriptor_data[mpid][\"Li\"] for mpid in df[\"name\"]])\n",
    "X_train_Li = np.hstack([X_train_Li, df[\"temp\"].values[:, None] / 1000.0])\n",
    "y_train_Li = df[\"log_msd_t_Li_label\"].cat.codes\n",
    "\n",
    "# Train an MLP classifier\n",
    "clf_Li = MLPClassifier(hidden_layer_sizes=(32, 16), max_iter=1000, random_state=42)\n",
    "clf_Li.fit(X_train_Li, y_train_Li)\n",
    "\n",
    "# Predict the labels for the training data\n",
    "y_train_pred_Li = clf_Li.predict(X_train_Li)\n",
    "df[\"prior_Li\"] = y_train_pred_Li\n",
    "df[\"prior_Li\"] = df[\"prior_Li\"].astype(\"category\")\n",
    "sns.histplot(df, x=\"log_msd_t_Li\", hue=\"prior_Li\", bins=50, kde=True)"
   ]
  },
  {
   "cell_type": "code",
   "execution_count": null,
   "metadata": {},
   "outputs": [],
   "source": [
    "# Descriptors for frame\n",
    "X_train_frame = np.array([descriptor_data[mpid][\"frame\"] for mpid in df[\"name\"]])\n",
    "X_train_frame = np.hstack([X_train_frame, df[\"temp\"].values[:, None] / 1000.0])\n",
    "y_train_frame = df[\"log_msd_t_frame_label\"].cat.codes\n",
    "\n",
    "# Train an MLP classifier\n",
    "clf_frame = MLPClassifier(hidden_layer_sizes=(32, 16), max_iter=1000, random_state=42)\n",
    "clf_frame.fit(X_train_frame, y_train_frame)\n",
    "\n",
    "# Predict the labels for the training data\n",
    "y_train_pred_frame = clf_frame.predict(X_train_frame)\n",
    "df[\"prior_frame\"] = y_train_pred_frame\n",
    "df[\"prior_frame\"] = df[\"prior_frame\"].astype(\"category\")\n",
    "sns.histplot(df, x=\"log_msd_t_frame\", hue=\"prior_frame\", bins=50, kde=True)"
   ]
  },
  {
   "cell_type": "markdown",
   "metadata": {},
   "source": [
    "### Test the prior classifier\n",
    "Note: We assume `msd_t` labels for the test set are available (just for the purpose of this notebook)."
   ]
  },
  {
   "cell_type": "code",
   "execution_count": null,
   "metadata": {},
   "outputs": [],
   "source": [
    "df = pd.concat(\n",
    "    [pd.read_csv(data_path / f\"test_{temp}K.csv\") for temp in [600, 800, 1000, 1200]]\n",
    ")\n",
    "\n",
    "# Compute log10 MSD/t and binarize\n",
    "df[\"log_msd_t_Li\"] = np.log10(df[\"msd_t_Li\"])\n",
    "df[\"log_msd_t_frame\"] = np.log10(df[\"msd_t_frame\"])\n",
    "df[\"log_msd_t_Li_label\"] = pd.cut(\n",
    "    df[\"log_msd_t_Li\"], bins=[-np.inf, -1.0, np.inf], labels=[0, 1]\n",
    ")\n",
    "df[\"log_msd_t_frame_label\"] = pd.cut(\n",
    "    df[\"log_msd_t_frame\"], bins=[-np.inf, -1.0, np.inf], labels=[0, 1]\n",
    ")\n",
    "\n",
    "# Descriptors for test data\n",
    "X_test_Li = np.array([descriptor_data[mpid][\"Li\"] for mpid in df[\"name\"]])\n",
    "X_test_Li = np.hstack([X_test_Li, df[\"temp\"].values[:, None] / 1000.0])\n",
    "y_test_Li = df[\"log_msd_t_Li_label\"].cat.codes\n",
    "X_test_frame = np.array([descriptor_data[mpid][\"frame\"] for mpid in df[\"name\"]])\n",
    "X_test_frame = np.hstack([X_test_frame, df[\"temp\"].values[:, None] / 1000.0])\n",
    "y_test_frame = df[\"log_msd_t_frame_label\"].cat.codes\n",
    "\n",
    "# Predict the labels for the test data\n",
    "y_test_pred_Li = clf_Li.predict(X_test_Li)\n",
    "df[\"prior_Li\"] = y_test_pred_Li\n",
    "df[\"prior_Li\"] = df[\"prior_Li\"].astype(\"category\")\n",
    "y_test_pred_frame = clf_frame.predict(X_test_frame)\n",
    "df[\"prior_frame\"] = y_test_pred_frame\n",
    "df[\"prior_frame\"] = df[\"prior_frame\"].astype(\"category\")\n",
    "\n",
    "sns.histplot(df, x=\"log_msd_t_Li\", hue=\"prior_Li\", bins=50, kde=True)\n",
    "sns.histplot(df, x=\"log_msd_t_frame\", hue=\"prior_frame\", bins=50, kde=True)"
   ]
  },
  {
   "cell_type": "markdown",
   "metadata": {},
   "source": [
    "### Annotate prior class predictions to the csv files"
   ]
  },
  {
   "cell_type": "code",
   "execution_count": 36,
   "metadata": {},
   "outputs": [],
   "source": [
    "for split in [\"train\", \"test\"]:\n",
    "    for temp in [600, 800, 1000, 1200]:\n",
    "        df = pd.read_csv(data_path / f\"{split}_{temp}K.csv\")\n",
    "        # Compute descriptors\n",
    "        X_test_Li = np.array([descriptor_data[mpid][\"Li\"] for mpid in df[\"name\"]])\n",
    "        X_test_Li = np.hstack([X_test_Li, df[\"temp\"].values[:, None] / 1000.0])\n",
    "        X_test_frame = np.array([descriptor_data[mpid][\"frame\"] for mpid in df[\"name\"]])\n",
    "        X_test_frame = np.hstack([X_test_frame, df[\"temp\"].values[:, None] / 1000.0])\n",
    "\n",
    "        # Predict the prior labels\n",
    "        df[\"prior_Li\"] = clf_Li.predict(X_test_Li)\n",
    "        df[\"prior_frame\"] = clf_frame.predict(X_test_frame)\n",
    "\n",
    "        # Save the data\n",
    "        df.to_csv(data_path / f\"{split}_{temp}K.csv\", index=False)"
   ]
  }
 ],
 "metadata": {
  "kernelspec": {
   "display_name": "mace",
   "language": "python",
   "name": "python3"
  },
  "language_info": {
   "codemirror_mode": {
    "name": "ipython",
    "version": 3
   },
   "file_extension": ".py",
   "mimetype": "text/x-python",
   "name": "python",
   "nbconvert_exporter": "python",
   "pygments_lexer": "ipython3",
   "version": "3.10.13"
  }
 },
 "nbformat": 4,
 "nbformat_minor": 2
}
